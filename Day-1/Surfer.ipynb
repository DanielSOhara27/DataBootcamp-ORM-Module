{
 "cells": [
  {
   "cell_type": "code",
   "execution_count": 18,
   "metadata": {},
   "outputs": [],
   "source": [
    "# Define the Surfer Class\n",
    "class Surfer():\n",
    "    \n",
    "    def __init__(self, name: str, hometown: str, rank) -> str:\n",
    "        self.name = name\n",
    "        self.hometown = hometown\n",
    "        self.rank = rank\n",
    "    def whoami(self):\n",
    "        return f\"Hi, my name is {self.name} and I am a surfer from {self.hometown}. Currently I am ranked #{self.rank}.\""
   ]
  },
  {
   "cell_type": "code",
   "execution_count": 14,
   "metadata": {},
   "outputs": [],
   "source": [
    "# Create an instance of the Surfer Class\n",
    "mySurfer = Surfer(\"The Dude\", \"Dude Valley\", 4)"
   ]
  },
  {
   "cell_type": "code",
   "execution_count": 15,
   "metadata": {},
   "outputs": [
    {
     "data": {
      "text/plain": [
       "'Hi, my name is The Dude and I am a surfer from Dude Valley. Currently I am ranked #4.'"
      ]
     },
     "execution_count": 15,
     "metadata": {},
     "output_type": "execute_result"
    }
   ],
   "source": [
    "# Print the object's attributes\n",
    "mySurfer.whoami()"
   ]
  },
  {
   "cell_type": "code",
   "execution_count": 17,
   "metadata": {},
   "outputs": [
    {
     "name": "stdout",
     "output_type": "stream",
     "text": [
      "What is the name of your sufer? The Dude\n",
      "Where is your surfer from? Dudesvill\n",
      "What is your surfer's rank? 2\n",
      "Currently there are 1 registered in today's tournament\n",
      "Do you want to register another one? [y] [n]y\n",
      "What is the name of your sufer? The Dudette\n",
      "Where is your surfer from? Dudette City\n",
      "What is your surfer's rank? 1\n",
      "Currently there are 2 registered in today's tournament\n",
      "Do you want to register another one? [y] [n]n\n",
      "2 registered for today's tournament and they are:\n",
      "\n",
      "Hi, my name is The Dude and I am a surfer from Dudesvill. Currently I am ranked #2.\n",
      "Hi, my name is The Dudette and I am a surfer from Dudette City. Currently I am ranked #1.\n"
     ]
    }
   ],
   "source": [
    "# ----BONUS----\n",
    "# Variable to keep track of changes to while loop\n",
    "choice = 'y'\n",
    "surfers = list()\n",
    "\n",
    "while choice != 'n':\n",
    "    name = input(\"What is the name of your sufer? \")\n",
    "    hometown = input(\"Where is your surfer from? \")\n",
    "    rank = input(\"What is your surfer's rank? \")\n",
    "    surfers.append(Surfer(name, hometown, rank))\n",
    "    \n",
    "    print(f\"Currently there are {len(surfers)} registered in today's tournament\")\n",
    "    choice = Sinput(\"Do you want to register another one? [y] [n]\")\n",
    "    \n",
    "print(f\"\\nThere are {len(surfers)} registered for today's tournament and they are:\\n\")\n",
    "for surfer in surfers:\n",
    "    print(surfer.whoami())"
   ]
  },
  {
   "cell_type": "code",
   "execution_count": null,
   "metadata": {},
   "outputs": [],
   "source": []
  }
 ],
 "metadata": {
  "kernelspec": {
   "display_name": "Python 3",
   "language": "python",
   "name": "python3"
  },
  "language_info": {
   "codemirror_mode": {
    "name": "ipython",
    "version": 3
   },
   "file_extension": ".py",
   "mimetype": "text/x-python",
   "name": "python",
   "nbconvert_exporter": "python",
   "pygments_lexer": "ipython3",
   "version": "3.7.1"
  },
  "varInspector": {
   "cols": {
    "lenName": 16,
    "lenType": 16,
    "lenVar": 40
   },
   "kernels_config": {
    "python": {
     "delete_cmd_postfix": "",
     "delete_cmd_prefix": "del ",
     "library": "var_list.py",
     "varRefreshCmd": "print(var_dic_list())"
    },
    "r": {
     "delete_cmd_postfix": ") ",
     "delete_cmd_prefix": "rm(",
     "library": "var_list.r",
     "varRefreshCmd": "cat(var_dic_list()) "
    }
   },
   "types_to_exclude": [
    "module",
    "function",
    "builtin_function_or_method",
    "instance",
    "_Feature"
   ],
   "window_display": false
  }
 },
 "nbformat": 4,
 "nbformat_minor": 2
}
