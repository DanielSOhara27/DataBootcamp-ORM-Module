{
 "cells": [
  {
   "cell_type": "code",
   "execution_count": 14,
   "metadata": {},
   "outputs": [],
   "source": [
    "# Define the Surfer Class\n",
    "class Surfer():\n",
    "    surfers = 0\n",
    "    \n",
    "    def __init__(self, name: str, hometown: str, rank, wipeouts):\n",
    "        self.name = name\n",
    "        self.hometown = hometown\n",
    "        self.rank = rank\n",
    "        self.wipeouts = wipeouts\n",
    "        Surfer.surfers +=1\n",
    "    def whoami(self):\n",
    "        return f\"Hi, my name is {self.name} and I am a surfer from {self.hometown}. Currently I am ranked #{self.rank}.\"\n",
    "    def speak(self):\n",
    "        return \"Hang loose, bruh!\"\n",
    "    def biography(self):\n",
    "        return whoami(self)\n",
    "    def cheer(self):\n",
    "        if(self.wipeouts > 0):\n",
    "            return \"Bummer bruh, keep on keeping on!\"\n",
    "        else:\n",
    "            return \"I totally rock man, no wipeouts!\"\n",
    "    def countSurfers(self):\n",
    "        return Surfer.surfers"
   ]
  },
  {
   "cell_type": "code",
   "execution_count": 15,
   "metadata": {},
   "outputs": [
    {
     "name": "stdout",
     "output_type": "stream",
     "text": [
      "Hang loose, bruh!\n",
      "1\n",
      "Hang loose, bruh!\n",
      "2\n"
     ]
    }
   ],
   "source": [
    "# Create Surfers\n",
    "# --------------------------------------------------------------------------------\n",
    "Surfer1 = Surfer(\"Dude\", \"Dudesville\", 17, 0)\n",
    "print(Surfer1.speak())\n",
    "print(Surfer1.countSurfers())\n",
    "Surfer2 = Surfer(\"Dudette\", \"Duddington\", 13, 1)\n",
    "print(Surfer1.speak())\n",
    "print(Surfer1.countSurfers())"
   ]
  },
  {
   "cell_type": "code",
   "execution_count": null,
   "metadata": {},
   "outputs": [],
   "source": []
  }
 ],
 "metadata": {
  "kernelspec": {
   "display_name": "Python 3",
   "language": "python",
   "name": "python3"
  },
  "language_info": {
   "codemirror_mode": {
    "name": "ipython",
    "version": 3
   },
   "file_extension": ".py",
   "mimetype": "text/x-python",
   "name": "python",
   "nbconvert_exporter": "python",
   "pygments_lexer": "ipython3",
   "version": "3.7.1"
  },
  "varInspector": {
   "cols": {
    "lenName": 16,
    "lenType": 16,
    "lenVar": 40
   },
   "kernels_config": {
    "python": {
     "delete_cmd_postfix": "",
     "delete_cmd_prefix": "del ",
     "library": "var_list.py",
     "varRefreshCmd": "print(var_dic_list())"
    },
    "r": {
     "delete_cmd_postfix": ") ",
     "delete_cmd_prefix": "rm(",
     "library": "var_list.r",
     "varRefreshCmd": "cat(var_dic_list()) "
    }
   },
   "types_to_exclude": [
    "module",
    "function",
    "builtin_function_or_method",
    "instance",
    "_Feature"
   ],
   "window_display": false
  }
 },
 "nbformat": 4,
 "nbformat_minor": 2
}
