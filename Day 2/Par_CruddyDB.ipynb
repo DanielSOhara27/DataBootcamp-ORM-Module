{
 "cells": [
  {
   "cell_type": "code",
   "execution_count": 10,
   "metadata": {},
   "outputs": [],
   "source": [
    "# Import SQL Alchemy\n",
    "from sqlalchemy import create_engine\n",
    "\n",
    "# Import and establish Base for which classes will be constructed \n",
    "from sqlalchemy.ext.declarative import declarative_base\n",
    "Base = declarative_base()\n",
    "\n",
    "# Import modules to declare columns and column data types\n",
    "from sqlalchemy import Column, Integer, String, Float\n",
    "\n",
    "# Import module to perform functions over SqlAlchemy\n",
    "from sqlalchemy import func"
   ]
  },
  {
   "cell_type": "code",
   "execution_count": 2,
   "metadata": {
    "deletable": false,
    "nbgrader": {
     "checksum": "8af1cb904695d814b2f78e98ad1e76d6",
     "grade": false,
     "grade_id": "cell-55d75c21dbb2c337",
     "locked": false,
     "schema_version": 1,
     "solution": true
    }
   },
   "outputs": [],
   "source": [
    "# Create the Garbage class\n",
    "# YOUR CODE HERE\n",
    "class Garbage(Base):\n",
    "    __tablename__ = \"garbage_collection\"\n",
    "    id = Column(Integer, primary_key = True)\n",
    "    item = Column(String)\n",
    "    weight = Column(Float)\n",
    "    collector = Column(String)"
   ]
  },
  {
   "cell_type": "code",
   "execution_count": 3,
   "metadata": {
    "deletable": false,
    "nbgrader": {
     "checksum": "59c29987b266a9c395699d181bb087a6",
     "grade": false,
     "grade_id": "cell-4230ec6995aad3fd",
     "locked": false,
     "schema_version": 1,
     "solution": true
    }
   },
   "outputs": [],
   "source": [
    "# Create a connection to a SQLite database\n",
    "# YOUR CODE HERE\n",
    "engine = create_engine('sqlite:///cruddy.sqlite')"
   ]
  },
  {
   "cell_type": "code",
   "execution_count": 4,
   "metadata": {},
   "outputs": [],
   "source": [
    "# Create the garbage_collection table within the database\n",
    "Base.metadata.create_all(engine)"
   ]
  },
  {
   "cell_type": "code",
   "execution_count": 5,
   "metadata": {},
   "outputs": [],
   "source": [
    "# To push the objects made and query the server we use a Session object\n",
    "from sqlalchemy.orm import Session\n",
    "session = Session(bind=engine)"
   ]
  },
  {
   "cell_type": "code",
   "execution_count": 6,
   "metadata": {
    "deletable": false,
    "nbgrader": {
     "checksum": "eea32595c61b7a5ae6d9d0e22b1d18df",
     "grade": false,
     "grade_id": "cell-544743e14f0f9a25",
     "locked": false,
     "schema_version": 1,
     "solution": true
    }
   },
   "outputs": [],
   "source": [
    "# Create some instances of the Garbage class\n",
    "# YOUR CODE HERE\n",
    "soda = Garbage(item=\"soda\", weight=.3, collector=\"collector 1\")\n",
    "food = Garbage(item=\"ramen\", weight=.3, collector=\"collector 2\")\n",
    "bread = Garbage(item=\"bread\", weight=.3, collector=\"collector 3\")"
   ]
  },
  {
   "cell_type": "code",
   "execution_count": 7,
   "metadata": {
    "deletable": false,
    "nbgrader": {
     "checksum": "2e13e07533fce1b94f2693a49958066b",
     "grade": false,
     "grade_id": "cell-7ead20b8cbdbfb73",
     "locked": false,
     "schema_version": 1,
     "solution": true
    }
   },
   "outputs": [],
   "source": [
    "# Add these objects to the session\n",
    "# YOUR CODE HERE\n",
    "session.add(soda)\n",
    "session.add(food)\n",
    "session.add(bread)\n",
    "session.commit()"
   ]
  },
  {
   "cell_type": "code",
   "execution_count": 8,
   "metadata": {},
   "outputs": [
    {
     "name": "stdout",
     "output_type": "stream",
     "text": [
      "id: 1 item: soda weight: 0.3 collector: collector 1\n",
      "id: 2 item: ramen weight: 0.3 collector: collector 2\n",
      "id: 3 item: bread weight: 0.3 collector: collector 3\n"
     ]
    }
   ],
   "source": [
    "trash = session.query(Garbage)\n",
    "for tr in trash:\n",
    "    print(f\"id: {tr.id} item: {tr.item} weight: {tr.weight} collector: {tr.collector}\")"
   ]
  },
  {
   "cell_type": "code",
   "execution_count": 18,
   "metadata": {
    "deletable": false,
    "nbgrader": {
     "checksum": "d4a7717476260b79dd53ffdcee0b352e",
     "grade": false,
     "grade_id": "cell-a66cda367a0b1515",
     "locked": false,
     "schema_version": 1,
     "solution": true
    }
   },
   "outputs": [
    {
     "data": {
      "text/plain": [
       "IdentitySet([])"
      ]
     },
     "execution_count": 18,
     "metadata": {},
     "output_type": "execute_result"
    }
   ],
   "source": [
    "# Update two rows of data\n",
    "# YOUR CODE HERE\n",
    "trash = session.query(Garbage).filter_by(item=\"soda\").first()\n",
    "trash.item = \"Soft Drink\"\n",
    "trash.weight = .27\n",
    "session.dirty\n",
    "session.commit()\n",
    "session.dirty\n",
    "\n",
    "trash = session.query(Garbage).filter_by(item=\"ramen\").first()\n",
    "trash.item = \"Noodle Soup\"\n",
    "trash.weight = .35\n",
    "session.dirty\n",
    "session.commit()\n",
    "session.dirty"
   ]
  },
  {
   "cell_type": "code",
   "execution_count": 32,
   "metadata": {},
   "outputs": [
    {
     "name": "stdout",
     "output_type": "stream",
     "text": [
      "id: 1 item: Soft Drink weight: 0.27 collector: collector 1\n",
      "id: 2 item: Noodle Soup weight: 0.35 collector: collector 2\n",
      "id: 3 item: bread weight: 0.3 collector: collector 3\n"
     ]
    }
   ],
   "source": [
    "trash = session.query(Garbage)\n",
    "for tr in trash:\n",
    "    print(f\"id: {tr.id} item: {tr.item} weight: {tr.weight} collector: {tr.collector}\")"
   ]
  },
  {
   "cell_type": "code",
   "execution_count": 52,
   "metadata": {
    "deletable": false,
    "nbgrader": {
     "checksum": "fc1a996c75d8d3b91c9f7d1c7a74feee",
     "grade": false,
     "grade_id": "cell-2cee82afd03d3679",
     "locked": false,
     "schema_version": 1,
     "solution": true
    }
   },
   "outputs": [],
   "source": [
    "# Delete the row with the lowest weight\n",
    "# YOUR CODE HERE\n",
    "# session.query(Garbage).delete()\n",
    "trash = \n",
    "(\n",
    "    session.query(Garbage).filter_by\n",
    "    (\n",
    "        weight = \n",
    "        (\n",
    "            session.query(func.min(Garbage.weight)).first()\n",
    "        )[0]\n",
    "    )\n",
    ").delete()\n",
    "session.commit()"
   ]
  },
  {
   "cell_type": "code",
   "execution_count": 19,
   "metadata": {
    "deletable": false,
    "nbgrader": {
     "checksum": "ecc333c6906d189152b758d27e331e36",
     "grade": false,
     "grade_id": "cell-23672c755f55dd5d",
     "locked": false,
     "schema_version": 1,
     "solution": true
    }
   },
   "outputs": [
    {
     "name": "stdout",
     "output_type": "stream",
     "text": [
      "id: 1 item: Soft Drink weight: 0.27 collector: collector 1\n",
      "id: 2 item: Noodle Soup weight: 0.35 collector: collector 2\n",
      "id: 3 item: bread weight: 0.3 collector: collector 3\n"
     ]
    }
   ],
   "source": [
    "# Collect all of the items and print their information\n",
    "# YOUR CODE HERE\n",
    "trash = session.query(Garbage)\n",
    "for tr in trash:\n",
    "    print(f\"id: {tr.id} item: {tr.item} weight: {tr.weight} collector: {tr.collector}\")"
   ]
  },
  {
   "cell_type": "code",
   "execution_count": 23,
   "metadata": {},
   "outputs": [
    {
     "data": {
      "text/plain": [
       "0.27"
      ]
     },
     "execution_count": 23,
     "metadata": {},
     "output_type": "execute_result"
    }
   ],
   "source": [
    "item = session.query(func.min(Garbage.weight)).first()\n",
    "item[0]"
   ]
  },
  {
   "cell_type": "code",
   "execution_count": null,
   "metadata": {},
   "outputs": [],
   "source": []
  }
 ],
 "metadata": {
  "kernelspec": {
   "display_name": "Python 3",
   "language": "python",
   "name": "python3"
  },
  "language_info": {
   "codemirror_mode": {
    "name": "ipython",
    "version": 3
   },
   "file_extension": ".py",
   "mimetype": "text/x-python",
   "name": "python",
   "nbconvert_exporter": "python",
   "pygments_lexer": "ipython3",
   "version": "3.7.1"
  },
  "varInspector": {
   "cols": {
    "lenName": 16,
    "lenType": 16,
    "lenVar": 40
   },
   "kernels_config": {
    "python": {
     "delete_cmd_postfix": "",
     "delete_cmd_prefix": "del ",
     "library": "var_list.py",
     "varRefreshCmd": "print(var_dic_list())"
    },
    "r": {
     "delete_cmd_postfix": ") ",
     "delete_cmd_prefix": "rm(",
     "library": "var_list.r",
     "varRefreshCmd": "cat(var_dic_list()) "
    }
   },
   "types_to_exclude": [
    "module",
    "function",
    "builtin_function_or_method",
    "instance",
    "_Feature"
   ],
   "window_display": false
  }
 },
 "nbformat": 4,
 "nbformat_minor": 2
}
